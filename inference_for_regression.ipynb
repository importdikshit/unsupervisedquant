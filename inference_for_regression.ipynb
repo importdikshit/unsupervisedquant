{
 "cells": [
  {
   "cell_type": "markdown",
   "metadata": {},
   "source": [
    "# INFERENCE FOR LINEAR REGRESSION. \n",
    "\n",
    "Once Assumptions are checked, we want to move on to uncertainty. \n",
    "\n",
    "You are reasonably confident in the model alligning with reality, therefore you want to make some estimates about how close you may be to the ground truth. "
   ]
  },
  {
   "cell_type": "markdown",
   "metadata": {},
   "source": [
    "## RESTATING THE BASICS\n",
    "\n",
    "Gaussian distributions are fantastic because they are:\n",
    "- A Location-Scale Family\n",
    "\n",
    "- A Stable Family\n",
    "\n",
    "\n",
    "### THE SIMPLE REGRESSION MODEL\n",
    "\n",
    "1. OOF\n",
    "2. OOF\n",
    "\n",
    "So far, we know that:\n",
    "\n",
    "### THE MULTIPLE REGRESSION MODEL\n",
    "\n",
    "So far, we know that:\n",
    "\n"
   ]
  },
  {
   "cell_type": "markdown",
   "metadata": {},
   "source": [
    "## SAMPLING DISTRIBUTIONS AROUND THE MSE\n",
    "\n",
    "So we don't actually go over this in much detail because it involves a bunch of tedious Gaussian manipulations - and -  at face value this sampling distribution doesn't atually provide us with much information. These results are fed into everything below, however. \n",
    "\n",
    "### THE SIMPLE REGRESSION CASE\n",
    "\n",
    "\n",
    "### THE MULTIPLE REGRESSION CASE"
   ]
  },
  {
   "cell_type": "markdown",
   "metadata": {},
   "source": [
    "## SAMPLING DISTRIBUTION FOR THE $\\beta_i$\n",
    "\n",
    "### THE SIMPLE REGRESSION CASE\n",
    "\n",
    "\n",
    "### THE MULTIPLE REGRESSION CASE"
   ]
  },
  {
   "cell_type": "code",
   "execution_count": null,
   "metadata": {},
   "outputs": [],
   "source": [
    "## PREDICTIVE INFERENCE"
   ]
  },
  {
   "cell_type": "code",
   "execution_count": null,
   "metadata": {},
   "outputs": [],
   "source": [
    "## MORE PREDICTIVE INFERENCE?"
   ]
  },
  {
   "cell_type": "code",
   "execution_count": null,
   "metadata": {},
   "outputs": [],
   "source": [
    "## THE F TEST"
   ]
  },
  {
   "cell_type": "code",
   "execution_count": null,
   "metadata": {},
   "outputs": [],
   "source": [
    "## THE LIKLEHOOD RATIO TEST"
   ]
  },
  {
   "cell_type": "code",
   "execution_count": null,
   "metadata": {},
   "outputs": [],
   "source": [
    "## R SQUARED"
   ]
  },
  {
   "cell_type": "code",
   "execution_count": null,
   "metadata": {},
   "outputs": [],
   "source": [
    "## USING THE BOOTSTRAP INSTEAD"
   ]
  },
  {
   "cell_type": "code",
   "execution_count": null,
   "metadata": {},
   "outputs": [],
   "source": [
    "## WHY ALL OF THIS MAY ACTUALLY BE A BAD IDEA"
   ]
  }
 ],
 "metadata": {
  "kernelspec": {
   "display_name": "Python 3",
   "language": "python",
   "name": "python3"
  },
  "language_info": {
   "codemirror_mode": {
    "name": "ipython",
    "version": 3
   },
   "file_extension": ".py",
   "mimetype": "text/x-python",
   "name": "python",
   "nbconvert_exporter": "python",
   "pygments_lexer": "ipython3",
   "version": "3.7.6"
  }
 },
 "nbformat": 4,
 "nbformat_minor": 4
}
