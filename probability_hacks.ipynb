{
 "cells": [
  {
   "cell_type": "code",
   "execution_count": 1,
   "metadata": {},
   "outputs": [],
   "source": [
    "import numpy as np"
   ]
  },
  {
   "cell_type": "markdown",
   "metadata": {},
   "source": [
    "# **Probability Theory**\n",
    "\n",
    "\n",
    "This is the hacky intereview stuff. Not actual measure theory and filtering and all that fun stuff. "
   ]
  },
  {
   "cell_type": "markdown",
   "metadata": {},
   "source": [
    "## **The Fundamentals - Part I - Formulae**\n",
    "\n",
    "### Variance:\n",
    "\n",
    "1. LOTV\n",
    "\n",
    "2. Always attempt to use $E[X^2] - E[X]^2$ before using $E[(X - E[X])^2]$.\n",
    "\n",
    "3. Thi\n",
    "\n",
    "\n",
    "### Indicator Variables: \n",
    "\n",
    "$E[I_n] = p$\n",
    "\n",
    "$Var[I_n] = p(1-p)$\n",
    "\n",
    "$Var[\\sum_{i=0}^n{I_n}] = \\sum_{i=0}^n{Var[I_n]}$\n",
    "\n",
    "\n",
    "Exponential Distributions:\n",
    "\n"
   ]
  },
  {
   "cell_type": "markdown",
   "metadata": {},
   "source": [
    "## **The Fundamentals - Part II - Problem Solving**\n",
    "\n",
    "0. *Try an isomporphic form of the problem*: If balls are becoming confusing - try recasting the problem as prime numbers vs non-prime numbers. If sequential picks of length n are becoming confusing, think of it in terms of permutations, etc. \n",
    "\n",
    "\n",
    "1. *Try to narrow down the scope of your randomness*: Do this using these common techniques:\n",
    "    - Remove the complexity from the problem altogether.  \n",
    "    - Isolate it to some IID Indicator variables. \n",
    "    - Define your Random Variable as a sum of nonrandom + random quantities. Express your RV differently. "
   ]
  },
  {
   "cell_type": "markdown",
   "metadata": {},
   "source": [
    "## **Symmetry**"
   ]
  },
  {
   "cell_type": "markdown",
   "metadata": {},
   "source": [
    "## **Marginal Densities**\n",
    "\n",
    "0. Parameterize your integration bounds on the basis of the free variable which will remain after the integration. "
   ]
  },
  {
   "cell_type": "markdown",
   "metadata": {},
   "source": [
    "## **Indicators: Sneaky Beasts**\n",
    "\n",
    "*Question - EE126*: Suppose you have N items, G of which are good and B of which are bad. You start to draw items without replacement, and suppose that the first good item appears on draw X. What is $E[X]$?\n",
    "\n"
   ]
  },
  {
   "cell_type": "markdown",
   "metadata": {},
   "source": [
    "## **Order Statistics**\n",
    "\n",
    "*Question EE126 (and some interview)*: Tom Brady decides to throw a football as far as he can each day, and keep track of the farthest throw he has recorded so far; we will call this farthest throw his personal best. The distance that he throws the football is drawn from a continuous non-negative distribution and all throws are i.i.d. What is the expected number of times, $E[T]$, that his personal best changes over n throws?\n",
    "\n",
    "    Because the ordering ranks are equally likely, the probability of the longest throw happening at point I, it 1/i. \n"
   ]
  },
  {
   "cell_type": "markdown",
   "metadata": {},
   "source": [
    "## **Maximums and Minimums of Random Variables**\n",
    "\n",
    "0. "
   ]
  },
  {
   "cell_type": "markdown",
   "metadata": {},
   "source": [
    "## **Using MGF's like a boss**"
   ]
  },
  {
   "cell_type": "markdown",
   "metadata": {},
   "source": [
    "## **The Poisson Distribution**\n",
    "\n",
    "0. Sum of Poisson $\\lambda_a$ and $\\lambda_b$ variables is distribution as Poisson $\\lambda_a + \\lambda_b$. This is an easy deriviation. "
   ]
  },
  {
   "cell_type": "code",
   "execution_count": null,
   "metadata": {},
   "outputs": [],
   "source": []
  }
 ],
 "metadata": {
  "kernelspec": {
   "display_name": "Python 3",
   "language": "python",
   "name": "python3"
  },
  "language_info": {
   "codemirror_mode": {
    "name": "ipython",
    "version": 3
   },
   "file_extension": ".py",
   "mimetype": "text/x-python",
   "name": "python",
   "nbconvert_exporter": "python",
   "pygments_lexer": "ipython3",
   "version": "3.7.6"
  }
 },
 "nbformat": 4,
 "nbformat_minor": 4
}
